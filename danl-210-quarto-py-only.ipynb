{
  "cells": [
    {
      "cell_type": "raw",
      "metadata": {},
      "source": [
        "---\n",
        "title: 'DANL 210: Data Preparation and Management'\n",
        "subtitle: Quarto Template with only Python Code\n",
        "author:\n",
        "  - name: YOUR NAME\n",
        "  - name: YOUR COWORKER 1\n",
        "date: last-modified\n",
        "execute:\n",
        "  echo: true\n",
        "  eval: true\n",
        "  message: false\n",
        "  warning: false\n",
        "  fig-width: 9\n",
        "format:\n",
        "  html:\n",
        "    toc: true\n",
        "    number-sections: true\n",
        "    code-fold: show\n",
        "    code-tools: true\n",
        "    highlight-style: atom-one\n",
        "---"
      ],
      "id": "d47ab03c"
    },
    {
      "cell_type": "markdown",
      "metadata": {},
      "source": [
        "```{r}\n",
        "reticulate::use_python(\"C://Users//tmjoh//anaconda3\", required = TRUE)\n",
        "```\n",
        "\n",
        "\n",
        "# Python Basics \n",
        "\n",
        "## Variables and Data Types\n",
        "\n",
        "In Python, variables can store data of different types without explicitly declaring the type.\n",
        "\n",
        "For example:\n"
      ],
      "id": "0b989378"
    },
    {
      "cell_type": "code",
      "metadata": {},
      "source": [
        "integer_variable = 10\n",
        "string_variable = 'Hello'\n",
        "float_variable = 10.5\n",
        "\n",
        "float_variable"
      ],
      "id": "36608428",
      "execution_count": null,
      "outputs": []
    },
    {
      "cell_type": "markdown",
      "metadata": {},
      "source": [
        "## Control Structures\n",
        "\n",
        "Python supports the usual logical conditions from mathematics:\n"
      ],
      "id": "07970c68"
    },
    {
      "cell_type": "code",
      "metadata": {},
      "source": [
        "# Equals: a == b\n",
        "# Not Equals: a != b\n",
        "# Less than: a < b\n",
        "# Less than or equal to: a <= b\n",
        "# Greater than: a > b\n",
        "# Greater than or equal to: a >= b"
      ],
      "id": "0fa3a639",
      "execution_count": null,
      "outputs": []
    },
    {
      "cell_type": "markdown",
      "metadata": {},
      "source": [
        "These conditions can be used in several ways, most commonly in 'if statements' and loops.\n"
      ],
      "id": "95f50321"
    },
    {
      "cell_type": "code",
      "metadata": {},
      "source": [
        "# if statement:\n",
        "if 5 > 2:\n",
        "    print('Five is greater than two!')"
      ],
      "id": "475c58da",
      "execution_count": null,
      "outputs": []
    },
    {
      "cell_type": "markdown",
      "metadata": {},
      "source": [
        "## Functions\n",
        "\n",
        "A function is a block of code which only runs when it is called.\n",
        "\n",
        "You can pass data, known as parameters, into a function.\n",
        "\n",
        "A function can return data as a result.\n"
      ],
      "id": "15af10c4"
    },
    {
      "cell_type": "code",
      "metadata": {},
      "source": [
        "# Defining a function:\n",
        "def my_function():\n",
        "    print('Hello from a function')\n",
        "\n",
        "# Calling a function:\n",
        "my_function()"
      ],
      "id": "3ab65559",
      "execution_count": null,
      "outputs": []
    },
    {
      "cell_type": "markdown",
      "metadata": {},
      "source": [
        "## Lists and Dictionaries\n",
        "\n",
        "A list is a collection which is ordered and changeable.\n",
        "\n",
        "A dictionary is a collection which is unordered, changeable and indexed.\n"
      ],
      "id": "d5b43ec6"
    },
    {
      "cell_type": "code",
      "metadata": {},
      "source": [
        "# List example:\n",
        "my_list = ['apple', 'banana', 'cherry']\n",
        "\n",
        "# Dictionary example:\n",
        "my_dict = {'name': 'John', 'age': 36}"
      ],
      "id": "219094a3",
      "execution_count": null,
      "outputs": []
    },
    {
      "cell_type": "markdown",
      "metadata": {},
      "source": [
        "# Pandas Basics - Orange Juice Sales\n",
        "\n",
        "## Import Python libraries\n"
      ],
      "id": "d18d33f8"
    },
    {
      "cell_type": "code",
      "metadata": {},
      "source": [
        "import pandas as pd"
      ],
      "id": "5529b116",
      "execution_count": null,
      "outputs": []
    },
    {
      "cell_type": "code",
      "metadata": {},
      "source": [
        "oj = pd.read_csv('https://bcdanl.github.io/data/dominick_oj.csv')"
      ],
      "id": "3489ce4a",
      "execution_count": null,
      "outputs": []
    },
    {
      "cell_type": "code",
      "metadata": {},
      "source": [
        "#| code-fold: true\n",
        "#| code-summary: \"Code!\"\n",
        "\n",
        "oj"
      ],
      "id": "05c4be9e",
      "execution_count": null,
      "outputs": []
    },
    {
      "cell_type": "code",
      "metadata": {},
      "source": [
        "oj.describe()"
      ],
      "id": "10ba469a",
      "execution_count": null,
      "outputs": []
    },
    {
      "cell_type": "markdown",
      "metadata": {},
      "source": [
        "### Interactive DataFrame with `itables` library\n",
        "\n",
        "In `*.ipynb` on Google Colab, we can use `itables` or just Google Colab's default to print DataFrame.\n"
      ],
      "id": "803179b7"
    },
    {
      "cell_type": "code",
      "metadata": {},
      "source": [
        "!pip install itables\n",
        "from itables import init_notebook_mode, show\n",
        "init_notebook_mode(all_interactive=False)\n",
        "\n",
        "show(oj)"
      ],
      "id": "d0799bdf",
      "execution_count": null,
      "outputs": []
    }
  ],
  "metadata": {
    "kernelspec": {
      "display_name": "Python 3",
      "language": "python",
      "name": "python3"
    }
  },
  "nbformat": 4,
  "nbformat_minor": 5
}